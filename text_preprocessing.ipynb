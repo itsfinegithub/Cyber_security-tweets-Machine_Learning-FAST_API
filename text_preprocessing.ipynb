{
 "cells": [
  {
   "cell_type": "code",
   "execution_count": 150,
   "id": "0a178a81",
   "metadata": {},
   "outputs": [],
   "source": [
    "#importing dependencies\n",
    "import pandas as pd\n",
    "import warnings\n",
    "warnings.filterwarnings('ignore')\n",
    "import re\n",
    "import nltk\n",
    "from nltk.stem.wordnet import WordNetLemmatizer\n",
    "from nltk.tokenize import sent_tokenize,word_tokenize\n",
    "from nltk.corpus import stopwords\n",
    "from nltk.stem.porter import PorterStemmer\n",
    "import string\n",
    "PS = PorterStemmer()\n",
    "from sklearn.feature_extraction.text import TfidfVectorizer,CountVectorizer\n",
    "import seaborn as sns\n",
    "STOPWORDS=set(stopwords.words('english'))\n",
    "lemmatizer= WordNetLemmatizer()\n",
    "import numpy as np"
   ]
  },
  {
   "cell_type": "code",
   "execution_count": 125,
   "id": "4c5ec07e",
   "metadata": {},
   "outputs": [],
   "source": [
    "# importing dataframe 1\n",
    "df1 = pd.read_csv('/home/ubuntu/Downloads/text_classification_corpus/cybersecurity_tweets.csv')"
   ]
  },
  {
   "cell_type": "code",
   "execution_count": 126,
   "id": "b8b51971",
   "metadata": {},
   "outputs": [],
   "source": [
    "# importing dataframe 2\n",
    "df2 = pd.read_csv('/home/ubuntu/Downloads/text_classification_corpus/not_cybersecurity_tweets.csv')"
   ]
  },
  {
   "cell_type": "code",
   "execution_count": 127,
   "id": "f2bdbccb",
   "metadata": {},
   "outputs": [],
   "source": [
    "# combining the two dataframe\n",
    "df = df1.append(df2,ignore_index = True)"
   ]
  },
  {
   "cell_type": "code",
   "execution_count": 128,
   "id": "e71daba3",
   "metadata": {},
   "outputs": [
    {
     "name": "stdout",
     "output_type": "stream",
     "text": [
      "<class 'pandas.core.frame.DataFrame'>\n",
      "RangeIndex: 400000 entries, 0 to 399999\n",
      "Data columns (total 2 columns):\n",
      " #   Column  Non-Null Count   Dtype \n",
      "---  ------  --------------   ----- \n",
      " 0   text    400000 non-null  object\n",
      " 1   label   400000 non-null  int64 \n",
      "dtypes: int64(1), object(1)\n",
      "memory usage: 6.1+ MB\n"
     ]
    }
   ],
   "source": [
    "# printing the information about dataframe\n",
    "df.info()"
   ]
  },
  {
   "cell_type": "code",
   "execution_count": 129,
   "id": "820b03b0",
   "metadata": {},
   "outputs": [
    {
     "data": {
      "text/html": [
       "<div>\n",
       "<style scoped>\n",
       "    .dataframe tbody tr th:only-of-type {\n",
       "        vertical-align: middle;\n",
       "    }\n",
       "\n",
       "    .dataframe tbody tr th {\n",
       "        vertical-align: top;\n",
       "    }\n",
       "\n",
       "    .dataframe thead th {\n",
       "        text-align: right;\n",
       "    }\n",
       "</style>\n",
       "<table border=\"1\" class=\"dataframe\">\n",
       "  <thead>\n",
       "    <tr style=\"text-align: right;\">\n",
       "      <th></th>\n",
       "      <th>text</th>\n",
       "    </tr>\n",
       "  </thead>\n",
       "  <tbody>\n",
       "    <tr>\n",
       "      <th>count</th>\n",
       "      <td>400000</td>\n",
       "    </tr>\n",
       "    <tr>\n",
       "      <th>unique</th>\n",
       "      <td>390161</td>\n",
       "    </tr>\n",
       "    <tr>\n",
       "      <th>top</th>\n",
       "      <td>Our Ddos service! Please use the grardstresser...</td>\n",
       "    </tr>\n",
       "    <tr>\n",
       "      <th>freq</th>\n",
       "      <td>149</td>\n",
       "    </tr>\n",
       "  </tbody>\n",
       "</table>\n",
       "</div>"
      ],
      "text/plain": [
       "                                                     text\n",
       "count                                              400000\n",
       "unique                                             390161\n",
       "top     Our Ddos service! Please use the grardstresser...\n",
       "freq                                                  149"
      ]
     },
     "execution_count": 129,
     "metadata": {},
     "output_type": "execute_result"
    }
   ],
   "source": [
    "# returns description of the data in the DataFrame\n",
    "df.describe(include='object')"
   ]
  },
  {
   "cell_type": "code",
   "execution_count": 130,
   "id": "90c240e6",
   "metadata": {},
   "outputs": [],
   "source": [
    "# dropping duplicates here\n",
    "df.drop_duplicates(inplace=True)"
   ]
  },
  {
   "cell_type": "code",
   "execution_count": 131,
   "id": "494c5010",
   "metadata": {},
   "outputs": [
    {
     "data": {
      "text/plain": [
       "text     0\n",
       "label    0\n",
       "dtype: int64"
      ]
     },
     "execution_count": 131,
     "metadata": {},
     "output_type": "execute_result"
    }
   ],
   "source": [
    "# checking the missing values\n",
    "df.isna().sum()"
   ]
  },
  {
   "cell_type": "code",
   "execution_count": 139,
   "id": "bdcc16c2",
   "metadata": {},
   "outputs": [
    {
     "data": {
      "text/plain": [
       "'Irony is getting a phishing text about the Facebook outage to a phone number that was leaked by way of a Facebook dump https://t.co/QcwYPVXAMQ'"
      ]
     },
     "execution_count": 139,
     "metadata": {},
     "output_type": "execute_result"
    }
   ],
   "source": [
    "df['text'][300015]"
   ]
  },
  {
   "cell_type": "code",
   "execution_count": 123,
   "id": "e779fb8c",
   "metadata": {},
   "outputs": [
    {
     "data": {
      "text/html": [
       "<div>\n",
       "<style scoped>\n",
       "    .dataframe tbody tr th:only-of-type {\n",
       "        vertical-align: middle;\n",
       "    }\n",
       "\n",
       "    .dataframe tbody tr th {\n",
       "        vertical-align: top;\n",
       "    }\n",
       "\n",
       "    .dataframe thead th {\n",
       "        text-align: right;\n",
       "    }\n",
       "</style>\n",
       "<table border=\"1\" class=\"dataframe\">\n",
       "  <thead>\n",
       "    <tr style=\"text-align: right;\">\n",
       "      <th></th>\n",
       "      <th>label</th>\n",
       "      <th>Cleantext</th>\n",
       "    </tr>\n",
       "  </thead>\n",
       "  <tbody>\n",
       "    <tr>\n",
       "      <th>0</th>\n",
       "      <td>1</td>\n",
       "      <td>ai robo adviser future financial advice datapr...</td>\n",
       "    </tr>\n",
       "    <tr>\n",
       "      <th>1</th>\n",
       "      <td>1</td>\n",
       "      <td>hacker causing havoc mexican banking system cy...</td>\n",
       "    </tr>\n",
       "    <tr>\n",
       "      <th>2</th>\n",
       "      <td>1</td>\n",
       "      <td>cve issue discovered mxgraph related diagram p...</td>\n",
       "    </tr>\n",
       "    <tr>\n",
       "      <th>3</th>\n",
       "      <td>1</td>\n",
       "      <td>protect online identity labourcyberattack cybe...</td>\n",
       "    </tr>\n",
       "    <tr>\n",
       "      <th>4</th>\n",
       "      <td>1</td>\n",
       "      <td>forensic acquisition shadow cyber sec cybersec...</td>\n",
       "    </tr>\n",
       "    <tr>\n",
       "      <th>...</th>\n",
       "      <td>...</td>\n",
       "      <td>...</td>\n",
       "    </tr>\n",
       "    <tr>\n",
       "      <th>300012</th>\n",
       "      <td>0</td>\n",
       "      <td>creating company data breach response plan dat...</td>\n",
       "    </tr>\n",
       "    <tr>\n",
       "      <th>300013</th>\n",
       "      <td>0</td>\n",
       "      <td>aviso para los usuarios de correo de aytomurci...</td>\n",
       "    </tr>\n",
       "    <tr>\n",
       "      <th>300014</th>\n",
       "      <td>0</td>\n",
       "      <td>npm obfuscated birthday like easter egg mistak...</td>\n",
       "    </tr>\n",
       "    <tr>\n",
       "      <th>300015</th>\n",
       "      <td>0</td>\n",
       "      <td>cpu spectre amd intel gigazine intelcpu</td>\n",
       "    </tr>\n",
       "    <tr>\n",
       "      <th>300016</th>\n",
       "      <td>0</td>\n",
       "      <td>new android banking malware named octo appeare...</td>\n",
       "    </tr>\n",
       "  </tbody>\n",
       "</table>\n",
       "<p>300017 rows × 2 columns</p>\n",
       "</div>"
      ],
      "text/plain": [
       "        label                                          Cleantext\n",
       "0           1  ai robo adviser future financial advice datapr...\n",
       "1           1  hacker causing havoc mexican banking system cy...\n",
       "2           1  cve issue discovered mxgraph related diagram p...\n",
       "3           1  protect online identity labourcyberattack cybe...\n",
       "4           1  forensic acquisition shadow cyber sec cybersec...\n",
       "...       ...                                                ...\n",
       "300012      0  creating company data breach response plan dat...\n",
       "300013      0  aviso para los usuarios de correo de aytomurci...\n",
       "300014      0  npm obfuscated birthday like easter egg mistak...\n",
       "300015      0            cpu spectre amd intel gigazine intelcpu\n",
       "300016      0  new android banking malware named octo appeare...\n",
       "\n",
       "[300017 rows x 2 columns]"
      ]
     },
     "execution_count": 123,
     "metadata": {},
     "output_type": "execute_result"
    }
   ],
   "source": [
    "df"
   ]
  },
  {
   "cell_type": "code",
   "execution_count": 10,
   "id": "b1af02fd",
   "metadata": {},
   "outputs": [
    {
     "data": {
      "text/plain": [
       "<AxesSubplot:xlabel='label', ylabel='count'>"
      ]
     },
     "execution_count": 10,
     "metadata": {},
     "output_type": "execute_result"
    },
    {
     "data": {
      "image/png": "[encoded data removed]",
      "text/plain": [
       "<Figure size 432x288 with 1 Axes>"
      ]
     },
     "metadata": {
      "needs_background": "light"
     },
     "output_type": "display_data"
    }
   ],
   "source": [
    "# checking the data is balanced or not\n",
    "sns.countplot(x ='label', data = df)"
   ]
  },
  {
   "cell_type": "code",
   "execution_count": 11,
   "id": "d38b6fa1",
   "metadata": {},
   "outputs": [],
   "source": [
    "# text preprcessing\n",
    "def tokenize(text):\n",
    "    \n",
    "    text = re.sub(r'http\\S+', '', text)\n",
    "\n",
    "    text = re.sub(\"[^a-zA-Z]\", \" \", text.lower())#panctuations\n",
    "    \n",
    "    tokens = word_tokenize(text) #split text into words\n",
    "    \n",
    "    words = [w for w in tokens if w not in STOPWORDS] #remove stopwords\n",
    "    \n",
    "    lemmed_words = [lemmatizer.lemmatize(w) for w in words] #lemmatizing\n",
    "    \n",
    "    clean_tokens = []\n",
    "    \n",
    "    for i in lemmed_words: #appending all the lemmed words to clean_tokens\n",
    "        clean_tokens.append(i)\n",
    "        \n",
    "    text = \" \".join(clean_tokens) #joining text in cleaned tokens based on white spaces\n",
    "    \n",
    "    return text"
   ]
  },
  {
   "cell_type": "code",
   "execution_count": 12,
   "id": "6bd59244",
   "metadata": {},
   "outputs": [],
   "source": [
    "# !pip install swifter"
   ]
  },
  {
   "cell_type": "code",
   "execution_count": 13,
   "id": "d88adf9c",
   "metadata": {},
   "outputs": [
    {
     "data": {
      "application/vnd.jupyter.widget-view+json": {
       "model_id": "c8b27079397f4866a6b5c76e48803f46",
       "version_major": 2,
       "version_minor": 0
      },
      "text/plain": [
       "Pandas Apply:   0%|          | 0/390162 [00:00<?, ?it/s]"
      ]
     },
     "metadata": {},
     "output_type": "display_data"
    }
   ],
   "source": [
    "# text preprocessing\n",
    "import swifter\n",
    "df['Cleantext'] = df['text'].swifter.apply(lambda x: tokenize(x))"
   ]
  },
  {
   "cell_type": "code",
   "execution_count": 14,
   "id": "d3f554c7",
   "metadata": {},
   "outputs": [
    {
     "data": {
      "text/plain": [
       "399991    since pandemic orgs moved cloud based activity...\n",
       "399992    polyswarm marketplace community network detect...\n",
       "399993    creating company data breach response plan dat...\n",
       "399994    receive free year ddos mitigation service sign...\n",
       "399995    attacker test weak password purple fox malware...\n",
       "399996    aviso para los usuarios de correo de aytomurci...\n",
       "399997    npm obfuscated birthday like easter egg mistak...\n",
       "399998              cpu spectre amd intel gigazine intelcpu\n",
       "399999    new android banking malware named octo appeare...\n",
       "Name: Cleantext, dtype: object"
      ]
     },
     "execution_count": 14,
     "metadata": {},
     "output_type": "execute_result"
    }
   ],
   "source": [
    "df['Cleantext'].tail(9)"
   ]
  },
  {
   "cell_type": "code",
   "execution_count": 15,
   "id": "d2dce4df",
   "metadata": {},
   "outputs": [],
   "source": [
    "# dropping uncleaned data in the dataframe\n",
    "df.drop(columns='text',inplace=True)"
   ]
  },
  {
   "cell_type": "code",
   "execution_count": 16,
   "id": "4987a4bb",
   "metadata": {},
   "outputs": [
    {
     "data": {
      "text/html": [
       "<div>\n",
       "<style scoped>\n",
       "    .dataframe tbody tr th:only-of-type {\n",
       "        vertical-align: middle;\n",
       "    }\n",
       "\n",
       "    .dataframe tbody tr th {\n",
       "        vertical-align: top;\n",
       "    }\n",
       "\n",
       "    .dataframe thead th {\n",
       "        text-align: right;\n",
       "    }\n",
       "</style>\n",
       "<table border=\"1\" class=\"dataframe\">\n",
       "  <thead>\n",
       "    <tr style=\"text-align: right;\">\n",
       "      <th></th>\n",
       "      <th>label</th>\n",
       "      <th>Cleantext</th>\n",
       "    </tr>\n",
       "  </thead>\n",
       "  <tbody>\n",
       "    <tr>\n",
       "      <th>0</th>\n",
       "      <td>1</td>\n",
       "      <td>ai robo adviser future financial advice datapr...</td>\n",
       "    </tr>\n",
       "    <tr>\n",
       "      <th>1</th>\n",
       "      <td>1</td>\n",
       "      <td>hacker causing havoc mexican banking system cy...</td>\n",
       "    </tr>\n",
       "    <tr>\n",
       "      <th>2</th>\n",
       "      <td>1</td>\n",
       "      <td>cve issue discovered mxgraph related diagram p...</td>\n",
       "    </tr>\n",
       "    <tr>\n",
       "      <th>3</th>\n",
       "      <td>1</td>\n",
       "      <td>protect online identity labourcyberattack cybe...</td>\n",
       "    </tr>\n",
       "    <tr>\n",
       "      <th>4</th>\n",
       "      <td>1</td>\n",
       "      <td>forensic acquisition shadow cyber sec cybersec...</td>\n",
       "    </tr>\n",
       "    <tr>\n",
       "      <th>...</th>\n",
       "      <td>...</td>\n",
       "      <td>...</td>\n",
       "    </tr>\n",
       "    <tr>\n",
       "      <th>399995</th>\n",
       "      <td>0</td>\n",
       "      <td>attacker test weak password purple fox malware...</td>\n",
       "    </tr>\n",
       "    <tr>\n",
       "      <th>399996</th>\n",
       "      <td>0</td>\n",
       "      <td>aviso para los usuarios de correo de aytomurci...</td>\n",
       "    </tr>\n",
       "    <tr>\n",
       "      <th>399997</th>\n",
       "      <td>0</td>\n",
       "      <td>npm obfuscated birthday like easter egg mistak...</td>\n",
       "    </tr>\n",
       "    <tr>\n",
       "      <th>399998</th>\n",
       "      <td>0</td>\n",
       "      <td>cpu spectre amd intel gigazine intelcpu</td>\n",
       "    </tr>\n",
       "    <tr>\n",
       "      <th>399999</th>\n",
       "      <td>0</td>\n",
       "      <td>new android banking malware named octo appeare...</td>\n",
       "    </tr>\n",
       "  </tbody>\n",
       "</table>\n",
       "<p>390162 rows × 2 columns</p>\n",
       "</div>"
      ],
      "text/plain": [
       "        label                                          Cleantext\n",
       "0           1  ai robo adviser future financial advice datapr...\n",
       "1           1  hacker causing havoc mexican banking system cy...\n",
       "2           1  cve issue discovered mxgraph related diagram p...\n",
       "3           1  protect online identity labourcyberattack cybe...\n",
       "4           1  forensic acquisition shadow cyber sec cybersec...\n",
       "...       ...                                                ...\n",
       "399995      0  attacker test weak password purple fox malware...\n",
       "399996      0  aviso para los usuarios de correo de aytomurci...\n",
       "399997      0  npm obfuscated birthday like easter egg mistak...\n",
       "399998      0            cpu spectre amd intel gigazine intelcpu\n",
       "399999      0  new android banking malware named octo appeare...\n",
       "\n",
       "[390162 rows x 2 columns]"
      ]
     },
     "execution_count": 16,
     "metadata": {},
     "output_type": "execute_result"
    }
   ],
   "source": [
    "df"
   ]
  },
  {
   "cell_type": "code",
   "execution_count": 17,
   "id": "7d3a08f0",
   "metadata": {},
   "outputs": [
    {
     "name": "stdout",
     "output_type": "stream",
     "text": [
      "<class 'pandas.core.frame.DataFrame'>\n",
      "Int64Index: 390162 entries, 0 to 399999\n",
      "Data columns (total 2 columns):\n",
      " #   Column     Non-Null Count   Dtype \n",
      "---  ------     --------------   ----- \n",
      " 0   label      390162 non-null  int64 \n",
      " 1   Cleantext  390162 non-null  object\n",
      "dtypes: int64(1), object(1)\n",
      "memory usage: 17.0+ MB\n"
     ]
    }
   ],
   "source": [
    "# printing the infromation about cleaned dataframe\n",
    "df.info()"
   ]
  },
  {
   "cell_type": "code",
   "execution_count": 18,
   "id": "fd4c5b9e",
   "metadata": {},
   "outputs": [
    {
     "data": {
      "text/html": [
       "<div>\n",
       "<style scoped>\n",
       "    .dataframe tbody tr th:only-of-type {\n",
       "        vertical-align: middle;\n",
       "    }\n",
       "\n",
       "    .dataframe tbody tr th {\n",
       "        vertical-align: top;\n",
       "    }\n",
       "\n",
       "    .dataframe thead th {\n",
       "        text-align: right;\n",
       "    }\n",
       "</style>\n",
       "<table border=\"1\" class=\"dataframe\">\n",
       "  <thead>\n",
       "    <tr style=\"text-align: right;\">\n",
       "      <th></th>\n",
       "      <th>Cleantext</th>\n",
       "    </tr>\n",
       "  </thead>\n",
       "  <tbody>\n",
       "    <tr>\n",
       "      <th>count</th>\n",
       "      <td>390162</td>\n",
       "    </tr>\n",
       "    <tr>\n",
       "      <th>unique</th>\n",
       "      <td>299991</td>\n",
       "    </tr>\n",
       "    <tr>\n",
       "      <th>top</th>\n",
       "      <td>saman staan sterk tegen de vaccinatieplicht la...</td>\n",
       "    </tr>\n",
       "    <tr>\n",
       "      <th>freq</th>\n",
       "      <td>790</td>\n",
       "    </tr>\n",
       "  </tbody>\n",
       "</table>\n",
       "</div>"
      ],
      "text/plain": [
       "                                                Cleantext\n",
       "count                                              390162\n",
       "unique                                             299991\n",
       "top     saman staan sterk tegen de vaccinatieplicht la...\n",
       "freq                                                  790"
      ]
     },
     "execution_count": 18,
     "metadata": {},
     "output_type": "execute_result"
    }
   ],
   "source": [
    "# description of the uncleaned dataframe\n",
    "df.describe(include='object')"
   ]
  },
  {
   "cell_type": "code",
   "execution_count": 19,
   "id": "b7a5c956",
   "metadata": {},
   "outputs": [],
   "source": [
    "# remove the duplicates\n",
    "df.drop_duplicates(inplace = True)"
   ]
  },
  {
   "cell_type": "code",
   "execution_count": 20,
   "id": "252e793b",
   "metadata": {},
   "outputs": [
    {
     "data": {
      "text/html": [
       "<div>\n",
       "<style scoped>\n",
       "    .dataframe tbody tr th:only-of-type {\n",
       "        vertical-align: middle;\n",
       "    }\n",
       "\n",
       "    .dataframe tbody tr th {\n",
       "        vertical-align: top;\n",
       "    }\n",
       "\n",
       "    .dataframe thead th {\n",
       "        text-align: right;\n",
       "    }\n",
       "</style>\n",
       "<table border=\"1\" class=\"dataframe\">\n",
       "  <thead>\n",
       "    <tr style=\"text-align: right;\">\n",
       "      <th></th>\n",
       "      <th>label</th>\n",
       "      <th>Cleantext</th>\n",
       "    </tr>\n",
       "  </thead>\n",
       "  <tbody>\n",
       "    <tr>\n",
       "      <th>0</th>\n",
       "      <td>1</td>\n",
       "      <td>ai robo adviser future financial advice datapr...</td>\n",
       "    </tr>\n",
       "    <tr>\n",
       "      <th>1</th>\n",
       "      <td>1</td>\n",
       "      <td>hacker causing havoc mexican banking system cy...</td>\n",
       "    </tr>\n",
       "    <tr>\n",
       "      <th>2</th>\n",
       "      <td>1</td>\n",
       "      <td>cve issue discovered mxgraph related diagram p...</td>\n",
       "    </tr>\n",
       "    <tr>\n",
       "      <th>3</th>\n",
       "      <td>1</td>\n",
       "      <td>protect online identity labourcyberattack cybe...</td>\n",
       "    </tr>\n",
       "    <tr>\n",
       "      <th>4</th>\n",
       "      <td>1</td>\n",
       "      <td>forensic acquisition shadow cyber sec cybersec...</td>\n",
       "    </tr>\n",
       "    <tr>\n",
       "      <th>...</th>\n",
       "      <td>...</td>\n",
       "      <td>...</td>\n",
       "    </tr>\n",
       "    <tr>\n",
       "      <th>399993</th>\n",
       "      <td>0</td>\n",
       "      <td>creating company data breach response plan dat...</td>\n",
       "    </tr>\n",
       "    <tr>\n",
       "      <th>399996</th>\n",
       "      <td>0</td>\n",
       "      <td>aviso para los usuarios de correo de aytomurci...</td>\n",
       "    </tr>\n",
       "    <tr>\n",
       "      <th>399997</th>\n",
       "      <td>0</td>\n",
       "      <td>npm obfuscated birthday like easter egg mistak...</td>\n",
       "    </tr>\n",
       "    <tr>\n",
       "      <th>399998</th>\n",
       "      <td>0</td>\n",
       "      <td>cpu spectre amd intel gigazine intelcpu</td>\n",
       "    </tr>\n",
       "    <tr>\n",
       "      <th>399999</th>\n",
       "      <td>0</td>\n",
       "      <td>new android banking malware named octo appeare...</td>\n",
       "    </tr>\n",
       "  </tbody>\n",
       "</table>\n",
       "<p>300017 rows × 2 columns</p>\n",
       "</div>"
      ],
      "text/plain": [
       "        label                                          Cleantext\n",
       "0           1  ai robo adviser future financial advice datapr...\n",
       "1           1  hacker causing havoc mexican banking system cy...\n",
       "2           1  cve issue discovered mxgraph related diagram p...\n",
       "3           1  protect online identity labourcyberattack cybe...\n",
       "4           1  forensic acquisition shadow cyber sec cybersec...\n",
       "...       ...                                                ...\n",
       "399993      0  creating company data breach response plan dat...\n",
       "399996      0  aviso para los usuarios de correo de aytomurci...\n",
       "399997      0  npm obfuscated birthday like easter egg mistak...\n",
       "399998      0            cpu spectre amd intel gigazine intelcpu\n",
       "399999      0  new android banking malware named octo appeare...\n",
       "\n",
       "[300017 rows x 2 columns]"
      ]
     },
     "execution_count": 20,
     "metadata": {},
     "output_type": "execute_result"
    }
   ],
   "source": [
    "df"
   ]
  },
  {
   "cell_type": "code",
   "execution_count": 21,
   "id": "e43809f2",
   "metadata": {},
   "outputs": [
    {
     "data": {
      "text/html": [
       "<div>\n",
       "<style scoped>\n",
       "    .dataframe tbody tr th:only-of-type {\n",
       "        vertical-align: middle;\n",
       "    }\n",
       "\n",
       "    .dataframe tbody tr th {\n",
       "        vertical-align: top;\n",
       "    }\n",
       "\n",
       "    .dataframe thead th {\n",
       "        text-align: right;\n",
       "    }\n",
       "</style>\n",
       "<table border=\"1\" class=\"dataframe\">\n",
       "  <thead>\n",
       "    <tr style=\"text-align: right;\">\n",
       "      <th></th>\n",
       "      <th>label</th>\n",
       "      <th>Cleantext</th>\n",
       "    </tr>\n",
       "  </thead>\n",
       "  <tbody>\n",
       "    <tr>\n",
       "      <th>0</th>\n",
       "      <td>1</td>\n",
       "      <td>ai robo adviser future financial advice datapr...</td>\n",
       "    </tr>\n",
       "    <tr>\n",
       "      <th>1</th>\n",
       "      <td>1</td>\n",
       "      <td>hacker causing havoc mexican banking system cy...</td>\n",
       "    </tr>\n",
       "    <tr>\n",
       "      <th>2</th>\n",
       "      <td>1</td>\n",
       "      <td>cve issue discovered mxgraph related diagram p...</td>\n",
       "    </tr>\n",
       "    <tr>\n",
       "      <th>3</th>\n",
       "      <td>1</td>\n",
       "      <td>protect online identity labourcyberattack cybe...</td>\n",
       "    </tr>\n",
       "    <tr>\n",
       "      <th>4</th>\n",
       "      <td>1</td>\n",
       "      <td>forensic acquisition shadow cyber sec cybersec...</td>\n",
       "    </tr>\n",
       "    <tr>\n",
       "      <th>...</th>\n",
       "      <td>...</td>\n",
       "      <td>...</td>\n",
       "    </tr>\n",
       "    <tr>\n",
       "      <th>300012</th>\n",
       "      <td>0</td>\n",
       "      <td>creating company data breach response plan dat...</td>\n",
       "    </tr>\n",
       "    <tr>\n",
       "      <th>300013</th>\n",
       "      <td>0</td>\n",
       "      <td>aviso para los usuarios de correo de aytomurci...</td>\n",
       "    </tr>\n",
       "    <tr>\n",
       "      <th>300014</th>\n",
       "      <td>0</td>\n",
       "      <td>npm obfuscated birthday like easter egg mistak...</td>\n",
       "    </tr>\n",
       "    <tr>\n",
       "      <th>300015</th>\n",
       "      <td>0</td>\n",
       "      <td>cpu spectre amd intel gigazine intelcpu</td>\n",
       "    </tr>\n",
       "    <tr>\n",
       "      <th>300016</th>\n",
       "      <td>0</td>\n",
       "      <td>new android banking malware named octo appeare...</td>\n",
       "    </tr>\n",
       "  </tbody>\n",
       "</table>\n",
       "<p>300017 rows × 2 columns</p>\n",
       "</div>"
      ],
      "text/plain": [
       "        label                                          Cleantext\n",
       "0           1  ai robo adviser future financial advice datapr...\n",
       "1           1  hacker causing havoc mexican banking system cy...\n",
       "2           1  cve issue discovered mxgraph related diagram p...\n",
       "3           1  protect online identity labourcyberattack cybe...\n",
       "4           1  forensic acquisition shadow cyber sec cybersec...\n",
       "...       ...                                                ...\n",
       "300012      0  creating company data breach response plan dat...\n",
       "300013      0  aviso para los usuarios de correo de aytomurci...\n",
       "300014      0  npm obfuscated birthday like easter egg mistak...\n",
       "300015      0            cpu spectre amd intel gigazine intelcpu\n",
       "300016      0  new android banking malware named octo appeare...\n",
       "\n",
       "[300017 rows x 2 columns]"
      ]
     },
     "execution_count": 21,
     "metadata": {},
     "output_type": "execute_result"
    }
   ],
   "source": [
    "df.reset_index(inplace=True)\n",
    "df.drop(columns='index',inplace=True)\n",
    "df"
   ]
  },
  {
   "cell_type": "code",
   "execution_count": 22,
   "id": "63277ebb",
   "metadata": {},
   "outputs": [
    {
     "data": {
      "text/plain": [
       "<AxesSubplot:xlabel='label', ylabel='count'>"
      ]
     },
     "execution_count": 22,
     "metadata": {},
     "output_type": "execute_result"
    },
    {
     "data": {
      "image/png": "[encoded data removed]",
      "text/plain": [
       "<Figure size 432x288 with 1 Axes>"
      ]
     },
     "metadata": {
      "needs_background": "light"
     },
     "output_type": "display_data"
    }
   ],
   "source": [
    "# checking the data is balanced or not\n",
    "sns.countplot(x ='label', data = df)"
   ]
  },
  {
   "cell_type": "code",
   "execution_count": 117,
   "id": "f3c14a4c",
   "metadata": {},
   "outputs": [],
   "source": [
    "# converting the text data into numerical data\n",
    "vectorizer = TfidfVectorizer(ngram_range=(1,2),max_features=100)\n",
    "x = vectorizer.fit_transform(df['Cleantext']).toarray()"
   ]
  },
  {
   "cell_type": "code",
   "execution_count": 24,
   "id": "4d96673d",
   "metadata": {},
   "outputs": [
    {
     "data": {
      "text/plain": [
       "array([[0.        , 0.81628105, 0.        , ..., 0.        , 0.        ,\n",
       "        0.        ],\n",
       "       [0.        , 0.        , 0.        , ..., 0.        , 0.        ,\n",
       "        0.        ],\n",
       "       [0.        , 0.        , 0.        , ..., 0.        , 0.        ,\n",
       "        0.        ],\n",
       "       ...,\n",
       "       [0.        , 0.        , 0.        , ..., 0.        , 0.        ,\n",
       "        0.        ],\n",
       "       [0.        , 0.        , 0.        , ..., 0.        , 0.        ,\n",
       "        0.        ],\n",
       "       [0.        , 0.        , 0.58834805, ..., 0.        , 0.        ,\n",
       "        0.        ]])"
      ]
     },
     "execution_count": 24,
     "metadata": {},
     "output_type": "execute_result"
    }
   ],
   "source": [
    "x"
   ]
  },
  {
   "cell_type": "code",
   "execution_count": 25,
   "id": "580f7c6c",
   "metadata": {},
   "outputs": [
    {
     "data": {
      "text/html": [
       "<div>\n",
       "<style scoped>\n",
       "    .dataframe tbody tr th:only-of-type {\n",
       "        vertical-align: middle;\n",
       "    }\n",
       "\n",
       "    .dataframe tbody tr th {\n",
       "        vertical-align: top;\n",
       "    }\n",
       "\n",
       "    .dataframe thead th {\n",
       "        text-align: right;\n",
       "    }\n",
       "</style>\n",
       "<table border=\"1\" class=\"dataframe\">\n",
       "  <thead>\n",
       "    <tr style=\"text-align: right;\">\n",
       "      <th></th>\n",
       "      <th>label</th>\n",
       "    </tr>\n",
       "  </thead>\n",
       "  <tbody>\n",
       "    <tr>\n",
       "      <th>0</th>\n",
       "      <td>1</td>\n",
       "    </tr>\n",
       "    <tr>\n",
       "      <th>1</th>\n",
       "      <td>1</td>\n",
       "    </tr>\n",
       "    <tr>\n",
       "      <th>2</th>\n",
       "      <td>1</td>\n",
       "    </tr>\n",
       "    <tr>\n",
       "      <th>3</th>\n",
       "      <td>1</td>\n",
       "    </tr>\n",
       "    <tr>\n",
       "      <th>4</th>\n",
       "      <td>1</td>\n",
       "    </tr>\n",
       "    <tr>\n",
       "      <th>...</th>\n",
       "      <td>...</td>\n",
       "    </tr>\n",
       "    <tr>\n",
       "      <th>300012</th>\n",
       "      <td>0</td>\n",
       "    </tr>\n",
       "    <tr>\n",
       "      <th>300013</th>\n",
       "      <td>0</td>\n",
       "    </tr>\n",
       "    <tr>\n",
       "      <th>300014</th>\n",
       "      <td>0</td>\n",
       "    </tr>\n",
       "    <tr>\n",
       "      <th>300015</th>\n",
       "      <td>0</td>\n",
       "    </tr>\n",
       "    <tr>\n",
       "      <th>300016</th>\n",
       "      <td>0</td>\n",
       "    </tr>\n",
       "  </tbody>\n",
       "</table>\n",
       "<p>300017 rows × 1 columns</p>\n",
       "</div>"
      ],
      "text/plain": [
       "        label\n",
       "0           1\n",
       "1           1\n",
       "2           1\n",
       "3           1\n",
       "4           1\n",
       "...       ...\n",
       "300012      0\n",
       "300013      0\n",
       "300014      0\n",
       "300015      0\n",
       "300016      0\n",
       "\n",
       "[300017 rows x 1 columns]"
      ]
     },
     "execution_count": 25,
     "metadata": {},
     "output_type": "execute_result"
    }
   ],
   "source": [
    "y = df[['label']]\n",
    "y"
   ]
  },
  {
   "cell_type": "code",
   "execution_count": 74,
   "id": "6a48b08b",
   "metadata": {},
   "outputs": [],
   "source": [
    "import pickle\n",
    "\n",
    "pickle.dump(vectorizer, open(\"tfidf.pickle\", \"wb\"))"
   ]
  },
  {
   "cell_type": "code",
   "execution_count": 26,
   "id": "1dfa505e",
   "metadata": {},
   "outputs": [],
   "source": [
    "# spliting the data into train and test\n",
    "from sklearn.model_selection import train_test_split\n",
    "x_train,x_test,y_train,y_test = train_test_split(x,y,train_size=0.70,stratify=y,random_state=25)"
   ]
  },
  {
   "cell_type": "code",
   "execution_count": 27,
   "id": "7b9f9e6a",
   "metadata": {},
   "outputs": [
    {
     "data": {
      "text/plain": [
       "label\n",
       "1        112024\n",
       "0         97987\n",
       "dtype: int64"
      ]
     },
     "execution_count": 27,
     "metadata": {},
     "output_type": "execute_result"
    }
   ],
   "source": [
    "y_train.value_counts()"
   ]
  },
  {
   "cell_type": "code",
   "execution_count": 28,
   "id": "c07009e7",
   "metadata": {},
   "outputs": [
    {
     "data": {
      "text/plain": [
       "label\n",
       "1        48011\n",
       "0        41995\n",
       "dtype: int64"
      ]
     },
     "execution_count": 28,
     "metadata": {},
     "output_type": "execute_result"
    }
   ],
   "source": [
    "y_test.value_counts()"
   ]
  },
  {
   "cell_type": "markdown",
   "id": "7986594d",
   "metadata": {},
   "source": [
    "# Logistic Regreesion"
   ]
  },
  {
   "cell_type": "code",
   "execution_count": 29,
   "id": "6dff8569",
   "metadata": {},
   "outputs": [],
   "source": [
    "# importing the Logistic regression model\n",
    "from sklearn.linear_model import LogisticRegression\n",
    "lr = LogisticRegression()"
   ]
  },
  {
   "cell_type": "code",
   "execution_count": 30,
   "id": "4cf1d685",
   "metadata": {},
   "outputs": [
    {
     "data": {
      "text/plain": [
       "LogisticRegression()"
      ]
     },
     "execution_count": 30,
     "metadata": {},
     "output_type": "execute_result"
    }
   ],
   "source": [
    "# fit the train data into logistic regression model\n",
    "lr.fit(x_train,y_train)"
   ]
  },
  {
   "cell_type": "code",
   "execution_count": 31,
   "id": "660ddc43",
   "metadata": {},
   "outputs": [],
   "source": [
    "# prediction for test data\n",
    "lr_predict = lr.predict(x_test)\n"
   ]
  },
  {
   "cell_type": "code",
   "execution_count": 32,
   "id": "45b614a4",
   "metadata": {},
   "outputs": [],
   "source": [
    "# importing metrics to summarize the performance of a classification algorithm\n",
    "from sklearn.metrics import accuracy_score, confusion_matrix, classification_report,plot_roc_curve"
   ]
  },
  {
   "cell_type": "code",
   "execution_count": 33,
   "id": "070298e6",
   "metadata": {},
   "outputs": [
    {
     "data": {
      "text/plain": [
       "array([[41754,   241],\n",
       "       [ 3227, 44784]])"
      ]
     },
     "execution_count": 33,
     "metadata": {},
     "output_type": "execute_result"
    }
   ],
   "source": [
    "confusion_matrix(y_test,lr_predict)"
   ]
  },
  {
   "cell_type": "code",
   "execution_count": 34,
   "id": "3b690104",
   "metadata": {},
   "outputs": [
    {
     "name": "stdout",
     "output_type": "stream",
     "text": [
      "              precision    recall  f1-score   support\n",
      "\n",
      "           0       0.93      0.99      0.96     41995\n",
      "           1       0.99      0.93      0.96     48011\n",
      "\n",
      "    accuracy                           0.96     90006\n",
      "   macro avg       0.96      0.96      0.96     90006\n",
      "weighted avg       0.96      0.96      0.96     90006\n",
      "\n"
     ]
    }
   ],
   "source": [
    "print(classification_report(y_test,lr_predict))"
   ]
  },
  {
   "cell_type": "markdown",
   "id": "f1cdd2ea",
   "metadata": {},
   "source": [
    "# KNN\n"
   ]
  },
  {
   "cell_type": "code",
   "execution_count": 35,
   "id": "430e60ad",
   "metadata": {},
   "outputs": [],
   "source": [
    "from sklearn.neighbors import KNeighborsClassifier "
   ]
  },
  {
   "cell_type": "code",
   "execution_count": 36,
   "id": "82e70618",
   "metadata": {},
   "outputs": [],
   "source": [
    "nb = KNeighborsClassifier()"
   ]
  },
  {
   "cell_type": "code",
   "execution_count": 37,
   "id": "5a307011",
   "metadata": {},
   "outputs": [
    {
     "data": {
      "text/plain": [
       "KNeighborsClassifier()"
      ]
     },
     "execution_count": 37,
     "metadata": {},
     "output_type": "execute_result"
    }
   ],
   "source": [
    "nb.fit(x_train,y_train)"
   ]
  },
  {
   "cell_type": "code",
   "execution_count": 38,
   "id": "11d2eb60",
   "metadata": {},
   "outputs": [],
   "source": [
    "nb_predict =nb.predict(x_test)"
   ]
  },
  {
   "cell_type": "code",
   "execution_count": 39,
   "id": "22f96075",
   "metadata": {},
   "outputs": [
    {
     "data": {
      "text/plain": [
       "array([[38996,  2999],\n",
       "       [ 4582, 43429]])"
      ]
     },
     "execution_count": 39,
     "metadata": {},
     "output_type": "execute_result"
    }
   ],
   "source": [
    "confusion_matrix(y_test,nb_predict)"
   ]
  },
  {
   "cell_type": "code",
   "execution_count": 40,
   "id": "376b6946",
   "metadata": {},
   "outputs": [
    {
     "name": "stdout",
     "output_type": "stream",
     "text": [
      "              precision    recall  f1-score   support\n",
      "\n",
      "           0       0.89      0.93      0.91     41995\n",
      "           1       0.94      0.90      0.92     48011\n",
      "\n",
      "    accuracy                           0.92     90006\n",
      "   macro avg       0.92      0.92      0.92     90006\n",
      "weighted avg       0.92      0.92      0.92     90006\n",
      "\n"
     ]
    }
   ],
   "source": [
    "print(classification_report(y_test,nb_predict))"
   ]
  },
  {
   "cell_type": "code",
   "execution_count": 41,
   "id": "f508a2a6",
   "metadata": {},
   "outputs": [
    {
     "data": {
      "text/plain": [
       "0.9157722818478768"
      ]
     },
     "execution_count": 41,
     "metadata": {},
     "output_type": "execute_result"
    }
   ],
   "source": [
    "accuracy_score(y_test,nb_predict)"
   ]
  },
  {
   "cell_type": "markdown",
   "id": "1cf0b468",
   "metadata": {},
   "source": [
    "nb.fit(x_train,y_train)\n",
    "plot_roc_curve(nb, x_test, y_test)"
   ]
  },
  {
   "cell_type": "markdown",
   "id": "50605233",
   "metadata": {},
   "source": [
    "# decision tree"
   ]
  },
  {
   "cell_type": "code",
   "execution_count": 42,
   "id": "89d01276",
   "metadata": {},
   "outputs": [],
   "source": [
    "from sklearn.tree import DecisionTreeClassifier"
   ]
  },
  {
   "cell_type": "code",
   "execution_count": 43,
   "id": "c179388e",
   "metadata": {},
   "outputs": [],
   "source": [
    "dt = DecisionTreeClassifier()"
   ]
  },
  {
   "cell_type": "code",
   "execution_count": 44,
   "id": "c3f8199b",
   "metadata": {},
   "outputs": [
    {
     "data": {
      "text/plain": [
       "DecisionTreeClassifier()"
      ]
     },
     "execution_count": 44,
     "metadata": {},
     "output_type": "execute_result"
    }
   ],
   "source": [
    "dt.fit(x_train,y_train)"
   ]
  },
  {
   "cell_type": "code",
   "execution_count": 45,
   "id": "6259c857",
   "metadata": {},
   "outputs": [],
   "source": [
    "dt_predict = dt.predict(x_test)"
   ]
  },
  {
   "cell_type": "code",
   "execution_count": 46,
   "id": "874e9bf7",
   "metadata": {},
   "outputs": [
    {
     "data": {
      "text/plain": [
       "array([[41164,   831],\n",
       "       [ 2589, 45422]])"
      ]
     },
     "execution_count": 46,
     "metadata": {},
     "output_type": "execute_result"
    }
   ],
   "source": [
    "confusion_matrix(y_test,dt_predict)"
   ]
  },
  {
   "cell_type": "code",
   "execution_count": 47,
   "id": "096167ad",
   "metadata": {},
   "outputs": [
    {
     "name": "stdout",
     "output_type": "stream",
     "text": [
      "              precision    recall  f1-score   support\n",
      "\n",
      "           0       0.94      0.98      0.96     41995\n",
      "           1       0.98      0.95      0.96     48011\n",
      "\n",
      "    accuracy                           0.96     90006\n",
      "   macro avg       0.96      0.96      0.96     90006\n",
      "weighted avg       0.96      0.96      0.96     90006\n",
      "\n"
     ]
    }
   ],
   "source": [
    "print(classification_report(y_test,dt_predict))"
   ]
  },
  {
   "cell_type": "markdown",
   "id": "5fdba41e",
   "metadata": {},
   "source": [
    "# xgboost"
   ]
  },
  {
   "cell_type": "code",
   "execution_count": 48,
   "id": "50829450",
   "metadata": {},
   "outputs": [],
   "source": [
    "import xgboost as xgb"
   ]
  },
  {
   "cell_type": "code",
   "execution_count": 49,
   "id": "97b4289c",
   "metadata": {},
   "outputs": [],
   "source": [
    "xg = xgb.XGBClassifier()"
   ]
  },
  {
   "cell_type": "code",
   "execution_count": 50,
   "id": "b0b36ef4",
   "metadata": {},
   "outputs": [
    {
     "data": {
      "text/plain": [
       "XGBClassifier(base_score=0.5, booster='gbtree', callbacks=None,\n",
       "              colsample_bylevel=1, colsample_bynode=1, colsample_bytree=1,\n",
       "              early_stopping_rounds=None, enable_categorical=False,\n",
       "              eval_metric=None, gamma=0, gpu_id=-1, grow_policy='depthwise',\n",
       "              importance_type=None, interaction_constraints='',\n",
       "              learning_rate=0.300000012, max_bin=256, max_cat_to_onehot=4,\n",
       "              max_delta_step=0, max_depth=6, max_leaves=0, min_child_weight=1,\n",
       "              missing=nan, monotone_constraints='()', n_estimators=100,\n",
       "              n_jobs=0, num_parallel_tree=1, predictor='auto', random_state=0,\n",
       "              reg_alpha=0, reg_lambda=1, ...)"
      ]
     },
     "execution_count": 50,
     "metadata": {},
     "output_type": "execute_result"
    }
   ],
   "source": [
    "xg.fit(x_train,y_train)"
   ]
  },
  {
   "cell_type": "code",
   "execution_count": 51,
   "id": "4b6ad282",
   "metadata": {},
   "outputs": [],
   "source": [
    "xg_predict = xg.predict(x_test)"
   ]
  },
  {
   "cell_type": "code",
   "execution_count": 52,
   "id": "192da5ff",
   "metadata": {},
   "outputs": [
    {
     "name": "stdout",
     "output_type": "stream",
     "text": [
      "              precision    recall  f1-score   support\n",
      "\n",
      "           0       0.94      1.00      0.97     41995\n",
      "           1       1.00      0.94      0.97     48011\n",
      "\n",
      "    accuracy                           0.97     90006\n",
      "   macro avg       0.97      0.97      0.97     90006\n",
      "weighted avg       0.97      0.97      0.97     90006\n",
      "\n"
     ]
    }
   ],
   "source": [
    "print(classification_report(y_test,xg_predict))"
   ]
  },
  {
   "cell_type": "code",
   "execution_count": 53,
   "id": "8d881215",
   "metadata": {},
   "outputs": [
    {
     "data": {
      "text/plain": [
       "0.9665244539252938"
      ]
     },
     "execution_count": 53,
     "metadata": {},
     "output_type": "execute_result"
    }
   ],
   "source": [
    "accuracy_score(y_test,xg_predict)"
   ]
  },
  {
   "cell_type": "markdown",
   "id": "066a12f1",
   "metadata": {},
   "source": [
    "# Random forest"
   ]
  },
  {
   "cell_type": "code",
   "execution_count": 54,
   "id": "cd3e1c1c",
   "metadata": {},
   "outputs": [],
   "source": [
    "from sklearn.ensemble import RandomForestClassifier"
   ]
  },
  {
   "cell_type": "code",
   "execution_count": 55,
   "id": "193b19a3",
   "metadata": {},
   "outputs": [],
   "source": [
    "rl_model = RandomForestClassifier()"
   ]
  },
  {
   "cell_type": "code",
   "execution_count": 56,
   "id": "3cdbd0a4",
   "metadata": {},
   "outputs": [
    {
     "data": {
      "text/plain": [
       "RandomForestClassifier()"
      ]
     },
     "execution_count": 56,
     "metadata": {},
     "output_type": "execute_result"
    }
   ],
   "source": [
    "rl_model.fit(x_train,y_train)"
   ]
  },
  {
   "cell_type": "code",
   "execution_count": 57,
   "id": "3bb5be60",
   "metadata": {},
   "outputs": [],
   "source": [
    "rl_pred=rl_model.predict(x_test)"
   ]
  },
  {
   "cell_type": "code",
   "execution_count": 58,
   "id": "276495bd",
   "metadata": {},
   "outputs": [
    {
     "name": "stdout",
     "output_type": "stream",
     "text": [
      "              precision    recall  f1-score   support\n",
      "\n",
      "           0       0.94      0.99      0.96     41995\n",
      "           1       0.99      0.95      0.97     48011\n",
      "\n",
      "    accuracy                           0.97     90006\n",
      "   macro avg       0.97      0.97      0.97     90006\n",
      "weighted avg       0.97      0.97      0.97     90006\n",
      "\n"
     ]
    }
   ],
   "source": [
    "print(classification_report(y_test,rl_pred))"
   ]
  },
  {
   "cell_type": "code",
   "execution_count": 156,
   "id": "590480c2",
   "metadata": {},
   "outputs": [],
   "source": [
    "import pickle\n",
    "# saving the trained model \n",
    "filename = 'rl_model.pkl'\n",
    "pickle.dump(rl_model, open(filename, 'wb'))"
   ]
  },
  {
   "cell_type": "code",
   "execution_count": 73,
   "id": "2dd8be90",
   "metadata": {},
   "outputs": [
    {
     "data": {
      "text/plain": [
       "array([1, 1, 0, ..., 1, 0, 0])"
      ]
     },
     "execution_count": 73,
     "metadata": {},
     "output_type": "execute_result"
    }
   ],
   "source": [
    "# load the saved model\n",
    "loaded_model = pickle.load(open('rf_model.pkl', 'rb'))\n",
    "loaded_model.predict(x_test)"
   ]
  },
  {
   "cell_type": "markdown",
   "id": "959d5b1d",
   "metadata": {},
   "source": [
    "# ADA Boost"
   ]
  },
  {
   "cell_type": "code",
   "execution_count": 59,
   "id": "bf0c183c",
   "metadata": {},
   "outputs": [],
   "source": [
    "from sklearn.ensemble import AdaBoostClassifier"
   ]
  },
  {
   "cell_type": "code",
   "execution_count": 60,
   "id": "0cc0fc23",
   "metadata": {},
   "outputs": [],
   "source": [
    "ad_model = AdaBoostClassifier()"
   ]
  },
  {
   "cell_type": "code",
   "execution_count": 61,
   "id": "1bebb2ac",
   "metadata": {},
   "outputs": [
    {
     "data": {
      "text/plain": [
       "AdaBoostClassifier()"
      ]
     },
     "execution_count": 61,
     "metadata": {},
     "output_type": "execute_result"
    }
   ],
   "source": [
    "ad_model.fit(x_train,y_train)"
   ]
  },
  {
   "cell_type": "code",
   "execution_count": 62,
   "id": "e4ea9cef",
   "metadata": {},
   "outputs": [],
   "source": [
    "ad_pred = ad_model.predict(x_test)"
   ]
  },
  {
   "cell_type": "code",
   "execution_count": 63,
   "id": "e7bea195",
   "metadata": {},
   "outputs": [
    {
     "name": "stdout",
     "output_type": "stream",
     "text": [
      "              precision    recall  f1-score   support\n",
      "\n",
      "           0       0.93      0.99      0.96     41995\n",
      "           1       0.99      0.94      0.97     48011\n",
      "\n",
      "    accuracy                           0.96     90006\n",
      "   macro avg       0.96      0.97      0.96     90006\n",
      "weighted avg       0.97      0.96      0.96     90006\n",
      "\n"
     ]
    }
   ],
   "source": [
    "print(classification_report(y_test,ad_pred))"
   ]
  },
  {
   "cell_type": "markdown",
   "id": "a4f39eff",
   "metadata": {},
   "source": [
    "# prediction"
   ]
  },
  {
   "cell_type": "code",
   "execution_count": 190,
   "id": "a37e1fe1",
   "metadata": {},
   "outputs": [
    {
     "data": {
      "text/plain": [
       "'mental laxmi'"
      ]
     },
     "execution_count": 190,
     "metadata": {},
     "output_type": "execute_result"
    }
   ],
   "source": [
    "text='indian army'\n",
    "# preprocess the text\n",
    "ctext=tokenize(text)\n",
    "ctext"
   ]
  },
  {
   "cell_type": "code",
   "execution_count": 191,
   "id": "31a4265f",
   "metadata": {},
   "outputs": [],
   "source": [
    "# loading tfidf model\n",
    "tfidf = pickle.load(open('tfidf.pickle', 'rb'))"
   ]
  },
  {
   "cell_type": "code",
   "execution_count": 192,
   "id": "df52567a",
   "metadata": {},
   "outputs": [
    {
     "data": {
      "text/plain": [
       "<1x100 sparse matrix of type '<class 'numpy.float64'>'\n",
       "\twith 0 stored elements in Compressed Sparse Row format>"
      ]
     },
     "execution_count": 192,
     "metadata": {},
     "output_type": "execute_result"
    }
   ],
   "source": [
    "# converting text into numbers\n",
    "vector=tfidf.transform([ctext])\n",
    "vector"
   ]
  },
  {
   "cell_type": "code",
   "execution_count": 193,
   "id": "347b1f61",
   "metadata": {},
   "outputs": [
    {
     "data": {
      "text/plain": [
       "array([0])"
      ]
     },
     "execution_count": 193,
     "metadata": {},
     "output_type": "execute_result"
    }
   ],
   "source": [
    "# prediction of the vectors\n",
    "rl_model.predict(vector)"
   ]
  },
  {
   "cell_type": "code",
   "execution_count": 194,
   "id": "210ae16c",
   "metadata": {},
   "outputs": [
    {
     "name": "stdout",
     "output_type": "stream",
     "text": [
      "not cyber security tweets\n"
     ]
    }
   ],
   "source": [
    "# predict the probability \n",
    "\n",
    "prediction = rl_model.predict(vector)\n",
    "\n",
    "if prediction == 0:\n",
    "    print('not cyber security tweets')\n",
    "    \n",
    "else:\n",
    "    print('cyber security tweets')"
   ]
  },
  {
   "cell_type": "code",
   "execution_count": 195,
   "id": "2199f819",
   "metadata": {},
   "outputs": [
    {
     "data": {
      "text/plain": [
       "array([0.39008585])"
      ]
     },
     "execution_count": 195,
     "metadata": {},
     "output_type": "execute_result"
    }
   ],
   "source": [
    "# prediction of the vectors\n",
    "p = rl_model.predict_proba(vector)\n",
    "p=p[:,1]\n",
    "\n",
    "p"
   ]
  },
  {
   "cell_type": "code",
   "execution_count": 196,
   "id": "2a933440",
   "metadata": {},
   "outputs": [
    {
     "data": {
      "text/plain": [
       "array([[0.60991415, 0.39008585]])"
      ]
     },
     "execution_count": 196,
     "metadata": {},
     "output_type": "execute_result"
    }
   ],
   "source": [
    "rl_model.predict_proba(vector)"
   ]
  },
  {
   "cell_type": "code",
   "execution_count": null,
   "id": "b636586c",
   "metadata": {},
   "outputs": [],
   "source": []
  }
 ],
 "metadata": {
  "kernelspec": {
   "display_name": "Python 3.10.6 64-bit",
   "language": "python",
   "name": "python3"
  },
  "language_info": {
   "codemirror_mode": {
    "name": "ipython",
    "version": 3
   },
   "file_extension": ".py",
   "mimetype": "text/x-python",
   "name": "python",
   "nbconvert_exporter": "python",
   "pygments_lexer": "ipython3",
   "version": "3.10.6"
  },
  "vscode": {
   "interpreter": {
    "hash": "916dbcbb3f70747c44a77c7bcd40155683ae19c65e1c03b4aa3499c5328201f1"
   }
  }
 },
 "nbformat": 4,
 "nbformat_minor": 5
}
